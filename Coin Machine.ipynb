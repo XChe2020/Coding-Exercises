{
 "cells": [
  {
   "cell_type": "code",
   "execution_count": 2,
   "id": "c95374eb",
   "metadata": {},
   "outputs": [],
   "source": [
    "import pandas as pd\n",
    "import numpy as np\n",
    "import re"
   ]
  },
  {
   "cell_type": "code",
   "execution_count": 5,
   "id": "bc0fe683",
   "metadata": {
    "scrolled": true
   },
   "outputs": [
    {
     "data": {
      "text/plain": [
       "6289"
      ]
     },
     "execution_count": 5,
     "metadata": {},
     "output_type": "execute_result"
    }
   ],
   "source": [
    "track = []\n",
    "def coin_change(n_str, sofar=[]):\n",
    "    \n",
    "    #process input to extract numbers\n",
    "    if type(n_str)==str:\n",
    "        n = re.findall(r'\\d+', n_str) \n",
    "        n_df = pd.DataFrame(n)\n",
    "        n_num = n_df.astype('float').iloc[0,0]*100+n_df.astype('float').iloc[1,0]\n",
    "    else:\n",
    "        print(\"Please provide input in the format of £Pound-Pence.\")\n",
    "        return\n",
    "    \n",
    "    #list of coins for changes\n",
    "    lst = [200,100,50,20,10,5,2,1]\n",
    "    \n",
    "    if sum(sofar) == n_num:\n",
    "        #print(\"winner\", sofar)\n",
    "        sofar.sort()\n",
    "        \n",
    "        #only unique combinations\n",
    "        if len(track)>0 and sofar == track[-1]:\n",
    "            return\n",
    "        \n",
    "        #if the changes is odd coins then record \n",
    "        if len(sofar)%2 ==0:\n",
    "            #print(\"winner\", sofar)\n",
    "            #print('odd coins')\n",
    "            return\n",
    "        track.append( sofar )\n",
    "        return \n",
    "    if sum(sofar) > n_num:\n",
    "        return \n",
    "    for i in lst:\n",
    "        #print(i)\n",
    "        coin_change(n_str, sofar+[i])\n",
    "    return len(track)   \n",
    "\n",
    "coin_change(\"£0-20\")"
   ]
  },
  {
   "cell_type": "code",
   "execution_count": null,
   "id": "2d24390a",
   "metadata": {},
   "outputs": [],
   "source": [
    "coin_change(\"£0-50\")"
   ]
  },
  {
   "cell_type": "code",
   "execution_count": null,
   "id": "97314e37",
   "metadata": {},
   "outputs": [],
   "source": [
    "coin_change(\"£2-00\")"
   ]
  },
  {
   "cell_type": "code",
   "execution_count": null,
   "id": "2ae3db12",
   "metadata": {},
   "outputs": [],
   "source": [
    "coin_change(\"£10-00\")"
   ]
  },
  {
   "cell_type": "code",
   "execution_count": null,
   "id": "25fcc8b7",
   "metadata": {},
   "outputs": [],
   "source": []
  }
 ],
 "metadata": {
  "kernelspec": {
   "display_name": "Python 3 (ipykernel)",
   "language": "python",
   "name": "python3"
  },
  "language_info": {
   "codemirror_mode": {
    "name": "ipython",
    "version": 3
   },
   "file_extension": ".py",
   "mimetype": "text/x-python",
   "name": "python",
   "nbconvert_exporter": "python",
   "pygments_lexer": "ipython3",
   "version": "3.9.0"
  }
 },
 "nbformat": 4,
 "nbformat_minor": 5
}
