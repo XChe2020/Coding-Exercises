{
 "cells": [
  {
   "cell_type": "markdown",
   "id": "3b7bfe33",
   "metadata": {},
   "source": [
    "# Install and load packages"
   ]
  },
  {
   "cell_type": "code",
   "execution_count": null,
   "id": "f99f052a",
   "metadata": {},
   "outputs": [],
   "source": [
    "%pip install numba"
   ]
  },
  {
   "cell_type": "code",
   "execution_count": null,
   "id": "e052769e",
   "metadata": {},
   "outputs": [],
   "source": [
    "import pandas as pd\n",
    "import numpy as np\n",
    "import re\n",
    "from numba import jit"
   ]
  },
  {
   "cell_type": "markdown",
   "id": "040dbc7c",
   "metadata": {},
   "source": [
    "# Define function"
   ]
  },
  {
   "cell_type": "code",
   "execution_count": null,
   "id": "719f1691",
   "metadata": {
    "scrolled": true
   },
   "outputs": [],
   "source": [
    "track = []\n",
    "\n",
    "@jit(parallel=True)\n",
    "def coin_change(n_str, sofar=[]):\n",
    "    \n",
    "    #process input to extract numbers\n",
    "    if type(n_str)==str:\n",
    "        n = re.findall(r'\\d+', n_str) \n",
    "        n_df = pd.DataFrame(n)\n",
    "        n_num = n_df.astype('float').iloc[0,0]*100+n_df.astype('float').iloc[1,0]\n",
    "    else:\n",
    "        print(\"Please provide input in the format of £Pound-Pence.\")\n",
    "        return\n",
    "    \n",
    "    #list of coins for changes\n",
    "    lst = [200,100,50,20,10,5,2,1]\n",
    "    \n",
    "    if sum(sofar) == n_num:\n",
    "        sofar.sort()\n",
    "        \n",
    "        #only unique combinations\n",
    "        if len(track)>0 and sofar == track[-1]:\n",
    "            return\n",
    "        \n",
    "        #if the changes is odd coins then record \n",
    "        if len(sofar)%2 ==0:\n",
    "            return\n",
    "        track.append( sofar )\n",
    "        return \n",
    "    if sum(sofar) > n_num:\n",
    "        return \n",
    "    for i in lst:\n",
    "        coin_change(n_str, sofar+[i])\n",
    "    return len(track)   \n",
    "\n",
    "coin_change(\"£0-10\")"
   ]
  },
  {
   "cell_type": "markdown",
   "id": "efc73dc1",
   "metadata": {},
   "source": [
    "The function is proofed working with examples of £0.05 and £0.1. However, it occurs the function is not the most efficient one as when calculating for £0.5 and higher, it takes ages to run despite using JIT from numba. It is because within the recursive function, there are a large number of functions are called more than once, hence it slows down the whole calculation. \n",
    "\n",
    "Due to limited amount of avaiable time, I was unable to optimise the function futher and calculate the solutions for the amounts below. "
   ]
  },
  {
   "cell_type": "code",
   "execution_count": null,
   "id": "472cdaf4",
   "metadata": {},
   "outputs": [],
   "source": [
    "coin_change(\"£0-50\")"
   ]
  },
  {
   "cell_type": "code",
   "execution_count": null,
   "id": "4c080df2",
   "metadata": {},
   "outputs": [],
   "source": [
    "coin_change(\"£2-00\")"
   ]
  },
  {
   "cell_type": "code",
   "execution_count": null,
   "id": "63b51894",
   "metadata": {},
   "outputs": [],
   "source": [
    "coin_change(\"£10-00\")"
   ]
  },
  {
   "cell_type": "code",
   "execution_count": null,
   "id": "e8ea418d",
   "metadata": {},
   "outputs": [],
   "source": []
  }
 ],
 "metadata": {
  "kernelspec": {
   "display_name": "Python 3 (ipykernel)",
   "language": "python",
   "name": "python3"
  },
  "language_info": {
   "codemirror_mode": {
    "name": "ipython",
    "version": 3
   },
   "file_extension": ".py",
   "mimetype": "text/x-python",
   "name": "python",
   "nbconvert_exporter": "python",
   "pygments_lexer": "ipython3",
   "version": "3.9.0"
  }
 },
 "nbformat": 4,
 "nbformat_minor": 5
}
